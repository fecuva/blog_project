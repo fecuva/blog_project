{
 "cells": [
  {
   "cell_type": "markdown",
   "id": "terminal-michigan",
   "metadata": {},
   "source": [
    "# Predicting Strokes\n",
    "\n",
    "The following code have the intends to answer some questions about the possibility of getting a stroke based on a series of features/variables that we expect can enlight the hypothesis drawn from the questions. \n",
    "\n",
    "This hypothesis made no need any AI approach in order to get an answer, and maybe coiuld be answer with another statitics method or with a simply data exploration.\n",
    "\n",
    "I am using the dataset extracted from Kaggle:\n",
    "\n",
    "https://www.kaggle.com/fedesoriano/stroke-prediction-dataset\n",
    "\n",
    "## Questions\n",
    "\n",
    "1. Is gender a predisposing factor for a stroke?\n",
    "2. Do people who have higher glucose more predisposed to have a stroke?\n",
    "3. Can we predict a stroke based on this variables?\n",
    "\n"
   ]
  },
  {
   "cell_type": "code",
   "execution_count": 1,
   "id": "dietary-description",
   "metadata": {},
   "outputs": [],
   "source": [
    "import pandas as pd\n",
    "import numpy as np\n",
    "import matplotlib as plt\n",
    "import seaborn as sns\n",
    "import scipy"
   ]
  },
  {
   "cell_type": "code",
   "execution_count": 2,
   "id": "personal-natural",
   "metadata": {},
   "outputs": [
    {
     "name": "stdout",
     "output_type": "stream",
     "text": [
      "(5110, 12)\n"
     ]
    },
    {
     "data": {
      "text/html": [
       "<div>\n",
       "<style scoped>\n",
       "    .dataframe tbody tr th:only-of-type {\n",
       "        vertical-align: middle;\n",
       "    }\n",
       "\n",
       "    .dataframe tbody tr th {\n",
       "        vertical-align: top;\n",
       "    }\n",
       "\n",
       "    .dataframe thead th {\n",
       "        text-align: right;\n",
       "    }\n",
       "</style>\n",
       "<table border=\"1\" class=\"dataframe\">\n",
       "  <thead>\n",
       "    <tr style=\"text-align: right;\">\n",
       "      <th></th>\n",
       "      <th>id</th>\n",
       "      <th>gender</th>\n",
       "      <th>age</th>\n",
       "      <th>hypertension</th>\n",
       "      <th>heart_disease</th>\n",
       "      <th>ever_married</th>\n",
       "      <th>work_type</th>\n",
       "      <th>Residence_type</th>\n",
       "      <th>avg_glucose_level</th>\n",
       "      <th>bmi</th>\n",
       "      <th>smoking_status</th>\n",
       "      <th>stroke</th>\n",
       "    </tr>\n",
       "  </thead>\n",
       "  <tbody>\n",
       "    <tr>\n",
       "      <th>0</th>\n",
       "      <td>9046</td>\n",
       "      <td>Male</td>\n",
       "      <td>67.0</td>\n",
       "      <td>0</td>\n",
       "      <td>1</td>\n",
       "      <td>Yes</td>\n",
       "      <td>Private</td>\n",
       "      <td>Urban</td>\n",
       "      <td>228.69</td>\n",
       "      <td>36.6</td>\n",
       "      <td>formerly smoked</td>\n",
       "      <td>1</td>\n",
       "    </tr>\n",
       "    <tr>\n",
       "      <th>1</th>\n",
       "      <td>51676</td>\n",
       "      <td>Female</td>\n",
       "      <td>61.0</td>\n",
       "      <td>0</td>\n",
       "      <td>0</td>\n",
       "      <td>Yes</td>\n",
       "      <td>Self-employed</td>\n",
       "      <td>Rural</td>\n",
       "      <td>202.21</td>\n",
       "      <td>NaN</td>\n",
       "      <td>never smoked</td>\n",
       "      <td>1</td>\n",
       "    </tr>\n",
       "    <tr>\n",
       "      <th>2</th>\n",
       "      <td>31112</td>\n",
       "      <td>Male</td>\n",
       "      <td>80.0</td>\n",
       "      <td>0</td>\n",
       "      <td>1</td>\n",
       "      <td>Yes</td>\n",
       "      <td>Private</td>\n",
       "      <td>Rural</td>\n",
       "      <td>105.92</td>\n",
       "      <td>32.5</td>\n",
       "      <td>never smoked</td>\n",
       "      <td>1</td>\n",
       "    </tr>\n",
       "    <tr>\n",
       "      <th>3</th>\n",
       "      <td>60182</td>\n",
       "      <td>Female</td>\n",
       "      <td>49.0</td>\n",
       "      <td>0</td>\n",
       "      <td>0</td>\n",
       "      <td>Yes</td>\n",
       "      <td>Private</td>\n",
       "      <td>Urban</td>\n",
       "      <td>171.23</td>\n",
       "      <td>34.4</td>\n",
       "      <td>smokes</td>\n",
       "      <td>1</td>\n",
       "    </tr>\n",
       "    <tr>\n",
       "      <th>4</th>\n",
       "      <td>1665</td>\n",
       "      <td>Female</td>\n",
       "      <td>79.0</td>\n",
       "      <td>1</td>\n",
       "      <td>0</td>\n",
       "      <td>Yes</td>\n",
       "      <td>Self-employed</td>\n",
       "      <td>Rural</td>\n",
       "      <td>174.12</td>\n",
       "      <td>24.0</td>\n",
       "      <td>never smoked</td>\n",
       "      <td>1</td>\n",
       "    </tr>\n",
       "  </tbody>\n",
       "</table>\n",
       "</div>"
      ],
      "text/plain": [
       "      id  gender   age  hypertension  heart_disease ever_married  \\\n",
       "0   9046    Male  67.0             0              1          Yes   \n",
       "1  51676  Female  61.0             0              0          Yes   \n",
       "2  31112    Male  80.0             0              1          Yes   \n",
       "3  60182  Female  49.0             0              0          Yes   \n",
       "4   1665  Female  79.0             1              0          Yes   \n",
       "\n",
       "       work_type Residence_type  avg_glucose_level   bmi   smoking_status  \\\n",
       "0        Private          Urban             228.69  36.6  formerly smoked   \n",
       "1  Self-employed          Rural             202.21   NaN     never smoked   \n",
       "2        Private          Rural             105.92  32.5     never smoked   \n",
       "3        Private          Urban             171.23  34.4           smokes   \n",
       "4  Self-employed          Rural             174.12  24.0     never smoked   \n",
       "\n",
       "   stroke  \n",
       "0       1  \n",
       "1       1  \n",
       "2       1  \n",
       "3       1  \n",
       "4       1  "
      ]
     },
     "execution_count": 2,
     "metadata": {},
     "output_type": "execute_result"
    }
   ],
   "source": [
    "data = pd.read_csv('./data_files/healthcare-dataset-stroke-data.csv')\n",
    "print(data.shape)\n",
    "data.head()"
   ]
  },
  {
   "cell_type": "code",
   "execution_count": 3,
   "id": "after-sharing",
   "metadata": {},
   "outputs": [
    {
     "data": {
      "text/plain": [
       "id                     int64\n",
       "gender                object\n",
       "age                  float64\n",
       "hypertension           int64\n",
       "heart_disease          int64\n",
       "ever_married          object\n",
       "work_type             object\n",
       "Residence_type        object\n",
       "avg_glucose_level    float64\n",
       "bmi                  float64\n",
       "smoking_status        object\n",
       "stroke                 int64\n",
       "dtype: object"
      ]
     },
     "execution_count": 3,
     "metadata": {},
     "output_type": "execute_result"
    }
   ],
   "source": [
    "data.dtypes"
   ]
  },
  {
   "cell_type": "markdown",
   "id": "moral-beast",
   "metadata": {},
   "source": [
    "The first thing we need to check is form presence of missing values. "
   ]
  },
  {
   "cell_type": "code",
   "execution_count": 4,
   "id": "magnetic-interview",
   "metadata": {},
   "outputs": [
    {
     "data": {
      "text/plain": [
       "id                     0\n",
       "gender                 0\n",
       "age                    0\n",
       "hypertension           0\n",
       "heart_disease          0\n",
       "ever_married           0\n",
       "work_type              0\n",
       "Residence_type         0\n",
       "avg_glucose_level      0\n",
       "bmi                  201\n",
       "smoking_status         0\n",
       "stroke                 0\n",
       "dtype: int64"
      ]
     },
     "execution_count": 4,
     "metadata": {},
     "output_type": "execute_result"
    }
   ],
   "source": [
    "data.isnull().sum()"
   ]
  },
  {
   "cell_type": "code",
   "execution_count": 5,
   "id": "closing-wages",
   "metadata": {},
   "outputs": [
    {
     "name": "stdout",
     "output_type": "stream",
     "text": [
      "The % of bmi values missing is 0.03933463796477495 \n"
     ]
    }
   ],
   "source": [
    "percentage_bmi_missing = data['bmi'].isnull().sum()/data.shape[0]\n",
    "print(f'The % of bmi values missing is {percentage_bmi_missing} ')"
   ]
  },
  {
   "cell_type": "markdown",
   "id": "competent-shepherd",
   "metadata": {},
   "source": [
    "This dataset seems to be mostly complete the only colum that seems to have missing values is bmi, almost 4% of missing data, for this amount we can try to use the median and not bias the model. However lets see how much of the represent the portion of gender and see id equaly "
   ]
  },
  {
   "cell_type": "code",
   "execution_count": 6,
   "id": "bizarre-phone",
   "metadata": {},
   "outputs": [
    {
     "data": {
      "text/html": [
       "<div>\n",
       "<style scoped>\n",
       "    .dataframe tbody tr th:only-of-type {\n",
       "        vertical-align: middle;\n",
       "    }\n",
       "\n",
       "    .dataframe tbody tr th {\n",
       "        vertical-align: top;\n",
       "    }\n",
       "\n",
       "    .dataframe thead th {\n",
       "        text-align: right;\n",
       "    }\n",
       "</style>\n",
       "<table border=\"1\" class=\"dataframe\">\n",
       "  <thead>\n",
       "    <tr style=\"text-align: right;\">\n",
       "      <th></th>\n",
       "      <th>id</th>\n",
       "      <th>age</th>\n",
       "      <th>hypertension</th>\n",
       "      <th>heart_disease</th>\n",
       "      <th>ever_married</th>\n",
       "      <th>work_type</th>\n",
       "      <th>Residence_type</th>\n",
       "      <th>avg_glucose_level</th>\n",
       "      <th>bmi</th>\n",
       "      <th>smoking_status</th>\n",
       "      <th>stroke</th>\n",
       "    </tr>\n",
       "    <tr>\n",
       "      <th>gender</th>\n",
       "      <th></th>\n",
       "      <th></th>\n",
       "      <th></th>\n",
       "      <th></th>\n",
       "      <th></th>\n",
       "      <th></th>\n",
       "      <th></th>\n",
       "      <th></th>\n",
       "      <th></th>\n",
       "      <th></th>\n",
       "      <th></th>\n",
       "    </tr>\n",
       "  </thead>\n",
       "  <tbody>\n",
       "    <tr>\n",
       "      <th>Female</th>\n",
       "      <td>97</td>\n",
       "      <td>97</td>\n",
       "      <td>97</td>\n",
       "      <td>97</td>\n",
       "      <td>97</td>\n",
       "      <td>97</td>\n",
       "      <td>97</td>\n",
       "      <td>97</td>\n",
       "      <td>0</td>\n",
       "      <td>97</td>\n",
       "      <td>97</td>\n",
       "    </tr>\n",
       "    <tr>\n",
       "      <th>Male</th>\n",
       "      <td>104</td>\n",
       "      <td>104</td>\n",
       "      <td>104</td>\n",
       "      <td>104</td>\n",
       "      <td>104</td>\n",
       "      <td>104</td>\n",
       "      <td>104</td>\n",
       "      <td>104</td>\n",
       "      <td>0</td>\n",
       "      <td>104</td>\n",
       "      <td>104</td>\n",
       "    </tr>\n",
       "  </tbody>\n",
       "</table>\n",
       "</div>"
      ],
      "text/plain": [
       "         id  age  hypertension  heart_disease  ever_married  work_type  \\\n",
       "gender                                                                   \n",
       "Female   97   97            97             97            97         97   \n",
       "Male    104  104           104            104           104        104   \n",
       "\n",
       "        Residence_type  avg_glucose_level  bmi  smoking_status  stroke  \n",
       "gender                                                                  \n",
       "Female              97                 97    0              97      97  \n",
       "Male               104                104    0             104     104  "
      ]
     },
     "execution_count": 6,
     "metadata": {},
     "output_type": "execute_result"
    }
   ],
   "source": [
    "data[pd.isna(data['bmi'])].groupby(['gender']).count()"
   ]
  },
  {
   "cell_type": "markdown",
   "id": "identified-farming",
   "metadata": {},
   "source": [
    "we can see they are fairly distribute by gender so we can input the values using the mean"
   ]
  },
  {
   "cell_type": "code",
   "execution_count": 7,
   "id": "intended-locking",
   "metadata": {},
   "outputs": [],
   "source": [
    "data['bmi']=data['bmi'].apply(lambda value: data['bmi'].mean() if pd.isnull(value) else value )"
   ]
  },
  {
   "cell_type": "markdown",
   "id": "political-listening",
   "metadata": {},
   "source": [
    "Now we have deal with the missing the values, let move ahead to the next steps "
   ]
  },
  {
   "cell_type": "markdown",
   "id": "reasonable-apartment",
   "metadata": {},
   "source": [
    "## Is gender a predisposing factor for a stroke?\n",
    "\n",
    "### Part I\n",
    "\n",
    "Lets tackle this from a simpler visualization that a allow us to explore this and then move to a more statistical correspondant to answer that. Using an anova"
   ]
  },
  {
   "cell_type": "code",
   "execution_count": 8,
   "id": "informative-break",
   "metadata": {},
   "outputs": [
    {
     "data": {
      "text/plain": [
       "gender\n",
       "Female    2994\n",
       "Male      2115\n",
       "Other        1\n",
       "Name: stroke, dtype: int64"
      ]
     },
     "execution_count": 8,
     "metadata": {},
     "output_type": "execute_result"
    }
   ],
   "source": [
    "data.groupby('gender')['stroke'].count()"
   ]
  },
  {
   "cell_type": "markdown",
   "id": "dutch-jacket",
   "metadata": {},
   "source": [
    "First we can see that third group other only have one observation which is not usefull to generate any insight"
   ]
  },
  {
   "cell_type": "code",
   "execution_count": 9,
   "id": "interpreted-architecture",
   "metadata": {},
   "outputs": [
    {
     "name": "stdout",
     "output_type": "stream",
     "text": [
      "gender\n",
      "Female    0.047094\n",
      "Male      0.051064\n",
      "Other     0.000000\n",
      "Name: stroke, dtype: float64\n"
     ]
    },
    {
     "data": {
      "image/png": "[encoded data removed]",
      "text/plain": [
       "<Figure size 432x288 with 1 Axes>"
      ]
     },
     "metadata": {
      "needs_background": "light"
     },
     "output_type": "display_data"
    }
   ],
   "source": [
    "print(data.groupby('gender')['stroke'].mean())\n",
    "data.groupby('gender')['stroke'].mean().plot();"
   ]
  },
  {
   "cell_type": "markdown",
   "id": "careful-stomach",
   "metadata": {},
   "source": [
    "We can see from the previous information that it seems to be an increase of strokes on Males than Females but in order to back up this, let's see if the difference is significant. Since Scikit learn doesn't have a direct way to calculate an anova lets use scipy and statmodels in order to calculate it "
   ]
  },
  {
   "cell_type": "code",
   "execution_count": 10,
   "id": "express-ozone",
   "metadata": {},
   "outputs": [
    {
     "data": {
      "text/plain": [
       "F_onewayResult(statistic=0.42114415376728614, pvalue=0.5163958663809363)"
      ]
     },
     "execution_count": 10,
     "metadata": {},
     "output_type": "execute_result"
    }
   ],
   "source": [
    "from scipy.stats import f_oneway\n",
    "f_oneway(data[data['gender']=='Male']['stroke'],data[data['gender']=='Female']['stroke'])"
   ]
  },
  {
   "cell_type": "code",
   "execution_count": 14,
   "id": "double-creator",
   "metadata": {},
   "outputs": [
    {
     "name": "stdout",
     "output_type": "stream",
     "text": [
      "              df      sum_sq   mean_sq         F   PR(>F)\n",
      "gender       2.0    0.021906  0.010953  0.236176  0.78965\n",
      "Residual  5107.0  236.844826  0.046377       NaN      NaN\n"
     ]
    }
   ],
   "source": [
    "import statsmodels.api as sm\n",
    "from statsmodels.formula.api import ols\n",
    "\n",
    "model = ols('stroke ~ gender',data=data).fit()\n",
    "table = sm.stats.anova_lm(model, typ=1)\n",
    "print(table)"
   ]
  },
  {
   "cell_type": "markdown",
   "id": "public-material",
   "metadata": {},
   "source": [
    "As we can see there is not significant difference between the group, however this might happen for multiple reasons, but as purpose of this post we can say that there is a difference were males seems to have more stroke than females, but we can stand that the difference is significant in order to start taking decision about that, further investigations should be done."
   ]
  },
  {
   "cell_type": "markdown",
   "id": "patient-looking",
   "metadata": {},
   "source": [
    "\n",
    "### Part II\n",
    "\n",
    "How ever lets see in the smoling variable what we get "
   ]
  },
  {
   "cell_type": "code",
   "execution_count": 16,
   "id": "split-assistant",
   "metadata": {},
   "outputs": [
    {
     "data": {
      "text/plain": [
       "smoking_status\n",
       "Unknown            1544\n",
       "formerly smoked     885\n",
       "never smoked       1892\n",
       "smokes              789\n",
       "Name: stroke, dtype: int64"
      ]
     },
     "execution_count": 16,
     "metadata": {},
     "output_type": "execute_result"
    }
   ],
   "source": [
    "data.groupby('smoking_status')['stroke'].count()"
   ]
  },
  {
   "cell_type": "code",
   "execution_count": 20,
   "id": "helpful-necessity",
   "metadata": {},
   "outputs": [
    {
     "name": "stdout",
     "output_type": "stream",
     "text": [
      "smoking_status\n",
      "Unknown            0.030440\n",
      "formerly smoked    0.079096\n",
      "never smoked       0.047569\n",
      "smokes             0.053232\n",
      "Name: stroke, dtype: float64\n"
     ]
    },
    {
     "data": {
      "image/png": "[encoded data removed]",
      "text/plain": [
       "<Figure size 432x288 with 1 Axes>"
      ]
     },
     "metadata": {
      "needs_background": "light"
     },
     "output_type": "display_data"
    }
   ],
   "source": [
    "print(data.groupby('smoking_status')['stroke'].mean())\n",
    "data.groupby('smoking_status')['stroke'].mean().plot();"
   ]
  },
  {
   "cell_type": "markdown",
   "id": "every-saying",
   "metadata": {},
   "source": [
    "At this point Unknown act as a missing variable and in this case it is difficult to input these values. What we can do is extract them from the analysis and see if with the data remaining we can draw some insights. However for the later part for predicting stroke we would leave it as 4 category "
   ]
  },
  {
   "cell_type": "code",
   "execution_count": 18,
   "id": "present-spotlight",
   "metadata": {},
   "outputs": [],
   "source": [
    "data_no_unknown = data[data['smoking_status']!='Unknown']"
   ]
  },
  {
   "cell_type": "code",
   "execution_count": 21,
   "id": "dynamic-brush",
   "metadata": {},
   "outputs": [
    {
     "name": "stdout",
     "output_type": "stream",
     "text": [
      "smoking_status\n",
      "formerly smoked    0.079096\n",
      "never smoked       0.047569\n",
      "smokes             0.053232\n",
      "Name: stroke, dtype: float64\n"
     ]
    },
    {
     "data": {
      "image/png": "[encoded data removed]",
      "text/plain": [
       "<Figure size 432x288 with 1 Axes>"
      ]
     },
     "metadata": {
      "needs_background": "light"
     },
     "output_type": "display_data"
    }
   ],
   "source": [
    "print(data_no_unknown.groupby('smoking_status')['stroke'].mean())\n",
    "data_no_unknown.groupby('smoking_status')['stroke'].mean().plot();"
   ]
  },
  {
   "cell_type": "markdown",
   "id": "average-temperature",
   "metadata": {},
   "source": [
    "From that we can see that there is a low difference between the groups, never smoked and smokes are very similar but those differ from the formerly smoked. Which might seems odd, but we could hypothesis it's because people who smokes have dilated blood vessels which can help not getting a stroke right away (see  for more information), but the formely smoked when the stop smoking they lost this quality which returns the blood vessels to a more normal state and this reverse effect with sum of another factor as obesity make this people more vulnerable to have a stroke.\n",
    "\n",
    "Is important that even it's a low percentage in health issues this can have a big impact, so for this question we can say that smoking and specially formerly smoked have are more prone to have a stroke."
   ]
  },
  {
   "cell_type": "code",
   "execution_count": 33,
   "id": "speaking-protection",
   "metadata": {},
   "outputs": [
    {
     "data": {
      "text/html": [
       "<div>\n",
       "<style scoped>\n",
       "    .dataframe tbody tr th:only-of-type {\n",
       "        vertical-align: middle;\n",
       "    }\n",
       "\n",
       "    .dataframe tbody tr th {\n",
       "        vertical-align: top;\n",
       "    }\n",
       "\n",
       "    .dataframe thead th {\n",
       "        text-align: right;\n",
       "    }\n",
       "</style>\n",
       "<table border=\"1\" class=\"dataframe\">\n",
       "  <thead>\n",
       "    <tr style=\"text-align: right;\">\n",
       "      <th></th>\n",
       "      <th>id</th>\n",
       "      <th>gender</th>\n",
       "      <th>age</th>\n",
       "      <th>hypertension</th>\n",
       "      <th>heart_disease</th>\n",
       "      <th>ever_married</th>\n",
       "      <th>work_type</th>\n",
       "      <th>Residence_type</th>\n",
       "      <th>avg_glucose_level</th>\n",
       "      <th>bmi</th>\n",
       "      <th>stroke</th>\n",
       "    </tr>\n",
       "    <tr>\n",
       "      <th>smoking_status</th>\n",
       "      <th></th>\n",
       "      <th></th>\n",
       "      <th></th>\n",
       "      <th></th>\n",
       "      <th></th>\n",
       "      <th></th>\n",
       "      <th></th>\n",
       "      <th></th>\n",
       "      <th></th>\n",
       "      <th></th>\n",
       "      <th></th>\n",
       "    </tr>\n",
       "  </thead>\n",
       "  <tbody>\n",
       "    <tr>\n",
       "      <th>formerly smoked</th>\n",
       "      <td>815</td>\n",
       "      <td>815</td>\n",
       "      <td>815</td>\n",
       "      <td>815</td>\n",
       "      <td>815</td>\n",
       "      <td>815</td>\n",
       "      <td>815</td>\n",
       "      <td>815</td>\n",
       "      <td>815</td>\n",
       "      <td>815</td>\n",
       "      <td>815</td>\n",
       "    </tr>\n",
       "    <tr>\n",
       "      <th>never smoked</th>\n",
       "      <td>1802</td>\n",
       "      <td>1802</td>\n",
       "      <td>1802</td>\n",
       "      <td>1802</td>\n",
       "      <td>1802</td>\n",
       "      <td>1802</td>\n",
       "      <td>1802</td>\n",
       "      <td>1802</td>\n",
       "      <td>1802</td>\n",
       "      <td>1802</td>\n",
       "      <td>1802</td>\n",
       "    </tr>\n",
       "    <tr>\n",
       "      <th>smokes</th>\n",
       "      <td>747</td>\n",
       "      <td>747</td>\n",
       "      <td>747</td>\n",
       "      <td>747</td>\n",
       "      <td>747</td>\n",
       "      <td>747</td>\n",
       "      <td>747</td>\n",
       "      <td>747</td>\n",
       "      <td>747</td>\n",
       "      <td>747</td>\n",
       "      <td>747</td>\n",
       "    </tr>\n",
       "  </tbody>\n",
       "</table>\n",
       "</div>"
      ],
      "text/plain": [
       "                   id  gender   age  hypertension  heart_disease  \\\n",
       "smoking_status                                                     \n",
       "formerly smoked   815     815   815           815            815   \n",
       "never smoked     1802    1802  1802          1802           1802   \n",
       "smokes            747     747   747           747            747   \n",
       "\n",
       "                 ever_married  work_type  Residence_type  avg_glucose_level  \\\n",
       "smoking_status                                                                \n",
       "formerly smoked           815        815             815                815   \n",
       "never smoked             1802       1802            1802               1802   \n",
       "smokes                    747        747             747                747   \n",
       "\n",
       "                  bmi  stroke  \n",
       "smoking_status                 \n",
       "formerly smoked   815     815  \n",
       "never smoked     1802    1802  \n",
       "smokes            747     747  "
      ]
     },
     "execution_count": 33,
     "metadata": {},
     "output_type": "execute_result"
    }
   ],
   "source": [
    "data_no_unknown[data_no_unknown['stroke'] == 0].groupby('smoking_status').count()"
   ]
  },
  {
   "cell_type": "code",
   "execution_count": 34,
   "id": "interim-pride",
   "metadata": {},
   "outputs": [
    {
     "data": {
      "text/html": [
       "<div>\n",
       "<style scoped>\n",
       "    .dataframe tbody tr th:only-of-type {\n",
       "        vertical-align: middle;\n",
       "    }\n",
       "\n",
       "    .dataframe tbody tr th {\n",
       "        vertical-align: top;\n",
       "    }\n",
       "\n",
       "    .dataframe thead th {\n",
       "        text-align: right;\n",
       "    }\n",
       "</style>\n",
       "<table border=\"1\" class=\"dataframe\">\n",
       "  <thead>\n",
       "    <tr style=\"text-align: right;\">\n",
       "      <th></th>\n",
       "      <th>id</th>\n",
       "      <th>gender</th>\n",
       "      <th>age</th>\n",
       "      <th>hypertension</th>\n",
       "      <th>heart_disease</th>\n",
       "      <th>ever_married</th>\n",
       "      <th>work_type</th>\n",
       "      <th>Residence_type</th>\n",
       "      <th>avg_glucose_level</th>\n",
       "      <th>bmi</th>\n",
       "      <th>stroke</th>\n",
       "    </tr>\n",
       "    <tr>\n",
       "      <th>smoking_status</th>\n",
       "      <th></th>\n",
       "      <th></th>\n",
       "      <th></th>\n",
       "      <th></th>\n",
       "      <th></th>\n",
       "      <th></th>\n",
       "      <th></th>\n",
       "      <th></th>\n",
       "      <th></th>\n",
       "      <th></th>\n",
       "      <th></th>\n",
       "    </tr>\n",
       "  </thead>\n",
       "  <tbody>\n",
       "    <tr>\n",
       "      <th>formerly smoked</th>\n",
       "      <td>70</td>\n",
       "      <td>70</td>\n",
       "      <td>70</td>\n",
       "      <td>70</td>\n",
       "      <td>70</td>\n",
       "      <td>70</td>\n",
       "      <td>70</td>\n",
       "      <td>70</td>\n",
       "      <td>70</td>\n",
       "      <td>70</td>\n",
       "      <td>70</td>\n",
       "    </tr>\n",
       "    <tr>\n",
       "      <th>never smoked</th>\n",
       "      <td>90</td>\n",
       "      <td>90</td>\n",
       "      <td>90</td>\n",
       "      <td>90</td>\n",
       "      <td>90</td>\n",
       "      <td>90</td>\n",
       "      <td>90</td>\n",
       "      <td>90</td>\n",
       "      <td>90</td>\n",
       "      <td>90</td>\n",
       "      <td>90</td>\n",
       "    </tr>\n",
       "    <tr>\n",
       "      <th>smokes</th>\n",
       "      <td>42</td>\n",
       "      <td>42</td>\n",
       "      <td>42</td>\n",
       "      <td>42</td>\n",
       "      <td>42</td>\n",
       "      <td>42</td>\n",
       "      <td>42</td>\n",
       "      <td>42</td>\n",
       "      <td>42</td>\n",
       "      <td>42</td>\n",
       "      <td>42</td>\n",
       "    </tr>\n",
       "  </tbody>\n",
       "</table>\n",
       "</div>"
      ],
      "text/plain": [
       "                 id  gender  age  hypertension  heart_disease  ever_married  \\\n",
       "smoking_status                                                                \n",
       "formerly smoked  70      70   70            70             70            70   \n",
       "never smoked     90      90   90            90             90            90   \n",
       "smokes           42      42   42            42             42            42   \n",
       "\n",
       "                 work_type  Residence_type  avg_glucose_level  bmi  stroke  \n",
       "smoking_status                                                              \n",
       "formerly smoked         70              70                 70   70      70  \n",
       "never smoked            90              90                 90   90      90  \n",
       "smokes                  42              42                 42   42      42  "
      ]
     },
     "execution_count": 34,
     "metadata": {},
     "output_type": "execute_result"
    }
   ],
   "source": [
    "data_no_unknown[data_no_unknown['stroke'] == 1].groupby('smoking_status').count()"
   ]
  },
  {
   "cell_type": "code",
   "execution_count": null,
   "id": "intelligent-interference",
   "metadata": {},
   "outputs": [],
   "source": []
  }
 ],
 "metadata": {
  "kernelspec": {
   "display_name": "Python 3",
   "language": "python",
   "name": "python3"
  },
  "language_info": {
   "codemirror_mode": {
    "name": "ipython",
    "version": 3
   },
   "file_extension": ".py",
   "mimetype": "text/x-python",
   "name": "python",
   "nbconvert_exporter": "python",
   "pygments_lexer": "ipython3",
   "version": "3.8.2"
  }
 },
 "nbformat": 4,
 "nbformat_minor": 5
}
