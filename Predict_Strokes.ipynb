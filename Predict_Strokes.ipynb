{
 "cells": [
  {
   "cell_type": "markdown",
   "id": "terminal-michigan",
   "metadata": {},
   "source": [
    "# Predicting Strokes\n",
    "\n",
    "The following code have the intends to answer some questions about the possibility of getting a stroke based on a series of features/variables that we expect can enlight the hypothesis drawn from the questions. \n",
    "\n",
    "This hypothesis made no need any AI approach in order to get an answer, and maybe coiuld be answer with another statitics method or with a simply data exploration.\n",
    "\n",
    "I am using the dataset extracted from Kaggle:\n",
    "\n",
    "https://www.kaggle.com/fedesoriano/stroke-prediction-dataset\n",
    "\n",
    "## Questions\n",
    "\n",
    "1. Is gender a predisposing factor for a stroke?\n",
    "2. Do people who have higher glucose more predisposed to have a stroke?\n",
    "3. Can we predict a stroke based on this variables?\n",
    "\n"
   ]
  },
  {
   "cell_type": "code",
   "execution_count": 1,
   "id": "dietary-description",
   "metadata": {},
   "outputs": [],
   "source": [
    "import pandas as pd\n",
    "import numpy as np\n",
    "import matplotlib as plt\n",
    "import seaborn as sns\n",
    "import scipy"
   ]
  },
  {
   "cell_type": "code",
   "execution_count": 2,
   "id": "personal-natural",
   "metadata": {},
   "outputs": [
    {
     "name": "stdout",
     "output_type": "stream",
     "text": [
      "(5110, 12)\n"
     ]
    },
    {
     "data": {
      "text/html": [
       "<div>\n",
       "<style scoped>\n",
       "    .dataframe tbody tr th:only-of-type {\n",
       "        vertical-align: middle;\n",
       "    }\n",
       "\n",
       "    .dataframe tbody tr th {\n",
       "        vertical-align: top;\n",
       "    }\n",
       "\n",
       "    .dataframe thead th {\n",
       "        text-align: right;\n",
       "    }\n",
       "</style>\n",
       "<table border=\"1\" class=\"dataframe\">\n",
       "  <thead>\n",
       "    <tr style=\"text-align: right;\">\n",
       "      <th></th>\n",
       "      <th>id</th>\n",
       "      <th>gender</th>\n",
       "      <th>age</th>\n",
       "      <th>hypertension</th>\n",
       "      <th>heart_disease</th>\n",
       "      <th>ever_married</th>\n",
       "      <th>work_type</th>\n",
       "      <th>Residence_type</th>\n",
       "      <th>avg_glucose_level</th>\n",
       "      <th>bmi</th>\n",
       "      <th>smoking_status</th>\n",
       "      <th>stroke</th>\n",
       "    </tr>\n",
       "  </thead>\n",
       "  <tbody>\n",
       "    <tr>\n",
       "      <th>0</th>\n",
       "      <td>9046</td>\n",
       "      <td>Male</td>\n",
       "      <td>67.0</td>\n",
       "      <td>0</td>\n",
       "      <td>1</td>\n",
       "      <td>Yes</td>\n",
       "      <td>Private</td>\n",
       "      <td>Urban</td>\n",
       "      <td>228.69</td>\n",
       "      <td>36.6</td>\n",
       "      <td>formerly smoked</td>\n",
       "      <td>1</td>\n",
       "    </tr>\n",
       "    <tr>\n",
       "      <th>1</th>\n",
       "      <td>51676</td>\n",
       "      <td>Female</td>\n",
       "      <td>61.0</td>\n",
       "      <td>0</td>\n",
       "      <td>0</td>\n",
       "      <td>Yes</td>\n",
       "      <td>Self-employed</td>\n",
       "      <td>Rural</td>\n",
       "      <td>202.21</td>\n",
       "      <td>NaN</td>\n",
       "      <td>never smoked</td>\n",
       "      <td>1</td>\n",
       "    </tr>\n",
       "    <tr>\n",
       "      <th>2</th>\n",
       "      <td>31112</td>\n",
       "      <td>Male</td>\n",
       "      <td>80.0</td>\n",
       "      <td>0</td>\n",
       "      <td>1</td>\n",
       "      <td>Yes</td>\n",
       "      <td>Private</td>\n",
       "      <td>Rural</td>\n",
       "      <td>105.92</td>\n",
       "      <td>32.5</td>\n",
       "      <td>never smoked</td>\n",
       "      <td>1</td>\n",
       "    </tr>\n",
       "    <tr>\n",
       "      <th>3</th>\n",
       "      <td>60182</td>\n",
       "      <td>Female</td>\n",
       "      <td>49.0</td>\n",
       "      <td>0</td>\n",
       "      <td>0</td>\n",
       "      <td>Yes</td>\n",
       "      <td>Private</td>\n",
       "      <td>Urban</td>\n",
       "      <td>171.23</td>\n",
       "      <td>34.4</td>\n",
       "      <td>smokes</td>\n",
       "      <td>1</td>\n",
       "    </tr>\n",
       "    <tr>\n",
       "      <th>4</th>\n",
       "      <td>1665</td>\n",
       "      <td>Female</td>\n",
       "      <td>79.0</td>\n",
       "      <td>1</td>\n",
       "      <td>0</td>\n",
       "      <td>Yes</td>\n",
       "      <td>Self-employed</td>\n",
       "      <td>Rural</td>\n",
       "      <td>174.12</td>\n",
       "      <td>24.0</td>\n",
       "      <td>never smoked</td>\n",
       "      <td>1</td>\n",
       "    </tr>\n",
       "  </tbody>\n",
       "</table>\n",
       "</div>"
      ],
      "text/plain": [
       "      id  gender   age  hypertension  heart_disease ever_married  \\\n",
       "0   9046    Male  67.0             0              1          Yes   \n",
       "1  51676  Female  61.0             0              0          Yes   \n",
       "2  31112    Male  80.0             0              1          Yes   \n",
       "3  60182  Female  49.0             0              0          Yes   \n",
       "4   1665  Female  79.0             1              0          Yes   \n",
       "\n",
       "       work_type Residence_type  avg_glucose_level   bmi   smoking_status  \\\n",
       "0        Private          Urban             228.69  36.6  formerly smoked   \n",
       "1  Self-employed          Rural             202.21   NaN     never smoked   \n",
       "2        Private          Rural             105.92  32.5     never smoked   \n",
       "3        Private          Urban             171.23  34.4           smokes   \n",
       "4  Self-employed          Rural             174.12  24.0     never smoked   \n",
       "\n",
       "   stroke  \n",
       "0       1  \n",
       "1       1  \n",
       "2       1  \n",
       "3       1  \n",
       "4       1  "
      ]
     },
     "execution_count": 2,
     "metadata": {},
     "output_type": "execute_result"
    }
   ],
   "source": [
    "data = pd.read_csv('./data_files/healthcare-dataset-stroke-data.csv')\n",
    "print(data.shape)\n",
    "data.head()"
   ]
  },
  {
   "cell_type": "code",
   "execution_count": 3,
   "id": "after-sharing",
   "metadata": {},
   "outputs": [
    {
     "data": {
      "text/plain": [
       "id                     int64\n",
       "gender                object\n",
       "age                  float64\n",
       "hypertension           int64\n",
       "heart_disease          int64\n",
       "ever_married          object\n",
       "work_type             object\n",
       "Residence_type        object\n",
       "avg_glucose_level    float64\n",
       "bmi                  float64\n",
       "smoking_status        object\n",
       "stroke                 int64\n",
       "dtype: object"
      ]
     },
     "execution_count": 3,
     "metadata": {},
     "output_type": "execute_result"
    }
   ],
   "source": [
    "data.dtypes"
   ]
  },
  {
   "cell_type": "markdown",
   "id": "moral-beast",
   "metadata": {},
   "source": [
    "The first thing we need to check is form presence of missing values. "
   ]
  },
  {
   "cell_type": "code",
   "execution_count": 4,
   "id": "magnetic-interview",
   "metadata": {},
   "outputs": [
    {
     "data": {
      "text/plain": [
       "id                     0\n",
       "gender                 0\n",
       "age                    0\n",
       "hypertension           0\n",
       "heart_disease          0\n",
       "ever_married           0\n",
       "work_type              0\n",
       "Residence_type         0\n",
       "avg_glucose_level      0\n",
       "bmi                  201\n",
       "smoking_status         0\n",
       "stroke                 0\n",
       "dtype: int64"
      ]
     },
     "execution_count": 4,
     "metadata": {},
     "output_type": "execute_result"
    }
   ],
   "source": [
    "data.isnull().sum()"
   ]
  },
  {
   "cell_type": "code",
   "execution_count": 5,
   "id": "closing-wages",
   "metadata": {},
   "outputs": [
    {
     "name": "stdout",
     "output_type": "stream",
     "text": [
      "The % of bmi values missing is 0.03933463796477495 \n"
     ]
    }
   ],
   "source": [
    "percentage_bmi_missing = data['bmi'].isnull().sum()/data.shape[0]\n",
    "print(f'The % of bmi values missing is {percentage_bmi_missing} ')"
   ]
  },
  {
   "cell_type": "markdown",
   "id": "competent-shepherd",
   "metadata": {},
   "source": [
    "This dataset seems to be mostly complete the only colum that seems to have missing values is bmi, almost 4% of missing data, for this amount we can try to use the median and not bias the model. However lets see how much of the represent the portion of gender and see id equaly "
   ]
  },
  {
   "cell_type": "code",
   "execution_count": 6,
   "id": "bizarre-phone",
   "metadata": {},
   "outputs": [
    {
     "data": {
      "text/html": [
       "<div>\n",
       "<style scoped>\n",
       "    .dataframe tbody tr th:only-of-type {\n",
       "        vertical-align: middle;\n",
       "    }\n",
       "\n",
       "    .dataframe tbody tr th {\n",
       "        vertical-align: top;\n",
       "    }\n",
       "\n",
       "    .dataframe thead th {\n",
       "        text-align: right;\n",
       "    }\n",
       "</style>\n",
       "<table border=\"1\" class=\"dataframe\">\n",
       "  <thead>\n",
       "    <tr style=\"text-align: right;\">\n",
       "      <th></th>\n",
       "      <th>id</th>\n",
       "      <th>age</th>\n",
       "      <th>hypertension</th>\n",
       "      <th>heart_disease</th>\n",
       "      <th>ever_married</th>\n",
       "      <th>work_type</th>\n",
       "      <th>Residence_type</th>\n",
       "      <th>avg_glucose_level</th>\n",
       "      <th>bmi</th>\n",
       "      <th>smoking_status</th>\n",
       "      <th>stroke</th>\n",
       "    </tr>\n",
       "    <tr>\n",
       "      <th>gender</th>\n",
       "      <th></th>\n",
       "      <th></th>\n",
       "      <th></th>\n",
       "      <th></th>\n",
       "      <th></th>\n",
       "      <th></th>\n",
       "      <th></th>\n",
       "      <th></th>\n",
       "      <th></th>\n",
       "      <th></th>\n",
       "      <th></th>\n",
       "    </tr>\n",
       "  </thead>\n",
       "  <tbody>\n",
       "    <tr>\n",
       "      <th>Female</th>\n",
       "      <td>97</td>\n",
       "      <td>97</td>\n",
       "      <td>97</td>\n",
       "      <td>97</td>\n",
       "      <td>97</td>\n",
       "      <td>97</td>\n",
       "      <td>97</td>\n",
       "      <td>97</td>\n",
       "      <td>0</td>\n",
       "      <td>97</td>\n",
       "      <td>97</td>\n",
       "    </tr>\n",
       "    <tr>\n",
       "      <th>Male</th>\n",
       "      <td>104</td>\n",
       "      <td>104</td>\n",
       "      <td>104</td>\n",
       "      <td>104</td>\n",
       "      <td>104</td>\n",
       "      <td>104</td>\n",
       "      <td>104</td>\n",
       "      <td>104</td>\n",
       "      <td>0</td>\n",
       "      <td>104</td>\n",
       "      <td>104</td>\n",
       "    </tr>\n",
       "  </tbody>\n",
       "</table>\n",
       "</div>"
      ],
      "text/plain": [
       "         id  age  hypertension  heart_disease  ever_married  work_type  \\\n",
       "gender                                                                   \n",
       "Female   97   97            97             97            97         97   \n",
       "Male    104  104           104            104           104        104   \n",
       "\n",
       "        Residence_type  avg_glucose_level  bmi  smoking_status  stroke  \n",
       "gender                                                                  \n",
       "Female              97                 97    0              97      97  \n",
       "Male               104                104    0             104     104  "
      ]
     },
     "execution_count": 6,
     "metadata": {},
     "output_type": "execute_result"
    }
   ],
   "source": [
    "data[pd.isna(data['bmi'])].groupby(['gender']).count()"
   ]
  },
  {
   "cell_type": "markdown",
   "id": "identified-farming",
   "metadata": {},
   "source": [
    "we can see they are fairly distribute by gender so we can input the values using the mean"
   ]
  },
  {
   "cell_type": "code",
   "execution_count": 7,
   "id": "intended-locking",
   "metadata": {},
   "outputs": [],
   "source": [
    "data['bmi']=data['bmi'].apply(lambda value: data['bmi'].mean() if pd.isnull(value) else value )"
   ]
  },
  {
   "cell_type": "markdown",
   "id": "political-listening",
   "metadata": {},
   "source": [
    "Now we have deal with the missing the values, let move ahead to the next steps "
   ]
  },
  {
   "cell_type": "markdown",
   "id": "reasonable-apartment",
   "metadata": {},
   "source": [
    "## Is gender a predisposing factor for a stroke?\n",
    "\n",
    "### Part I\n",
    "\n",
    "Lets tackle this from a simpler visualization that a allow us to explore this and then move to a more statistical correspondant to answer that. Using an anova"
   ]
  },
  {
   "cell_type": "code",
   "execution_count": 8,
   "id": "informative-break",
   "metadata": {},
   "outputs": [
    {
     "data": {
      "text/plain": [
       "gender\n",
       "Female    2994\n",
       "Male      2115\n",
       "Other        1\n",
       "Name: stroke, dtype: int64"
      ]
     },
     "execution_count": 8,
     "metadata": {},
     "output_type": "execute_result"
    }
   ],
   "source": [
    "data.groupby('gender')['stroke'].count()"
   ]
  },
  {
   "cell_type": "markdown",
   "id": "dutch-jacket",
   "metadata": {},
   "source": [
    "First we can see that third group other only have one observation which is not usefull to generate any insight"
   ]
  },
  {
   "cell_type": "code",
   "execution_count": 9,
   "id": "interpreted-architecture",
   "metadata": {},
   "outputs": [
    {
     "name": "stdout",
     "output_type": "stream",
     "text": [
      "gender\n",
      "Female    0.047094\n",
      "Male      0.051064\n",
      "Other     0.000000\n",
      "Name: stroke, dtype: float64\n"
     ]
    },
    {
     "data": {
      "image/png": "[encoded data removed]",
      "text/plain": [
       "<Figure size 432x288 with 1 Axes>"
      ]
     },
     "metadata": {
      "needs_background": "light"
     },
     "output_type": "display_data"
    }
   ],
   "source": [
    "print(data.groupby('gender')['stroke'].mean())\n",
    "data.groupby('gender')['stroke'].mean().plot();"
   ]
  },
  {
   "cell_type": "markdown",
   "id": "careful-stomach",
   "metadata": {},
   "source": [
    "We can see from the previous information that it seems to be an increase of strokes on Males than Females but in order to back up this, let's see if the difference is significant. Since Scikit learn doesn't have a direct way to calculate an anova lets use scipy and statmodels in order to calculate it "
   ]
  },
  {
   "cell_type": "code",
   "execution_count": 10,
   "id": "express-ozone",
   "metadata": {},
   "outputs": [
    {
     "data": {
      "text/plain": [
       "F_onewayResult(statistic=0.42114415376728614, pvalue=0.5163958663809363)"
      ]
     },
     "execution_count": 10,
     "metadata": {},
     "output_type": "execute_result"
    }
   ],
   "source": [
    "from scipy.stats import f_oneway\n",
    "f_oneway(data[data['gender']=='Male']['stroke'],data[data['gender']=='Female']['stroke'])"
   ]
  },
  {
   "cell_type": "code",
   "execution_count": 11,
   "id": "double-creator",
   "metadata": {},
   "outputs": [
    {
     "name": "stdout",
     "output_type": "stream",
     "text": [
      "              df      sum_sq   mean_sq         F   PR(>F)\n",
      "gender       2.0    0.021906  0.010953  0.236176  0.78965\n",
      "Residual  5107.0  236.844826  0.046377       NaN      NaN\n"
     ]
    }
   ],
   "source": [
    "import statsmodels.api as sm\n",
    "from statsmodels.formula.api import ols\n",
    "\n",
    "model = ols('stroke ~ gender',data=data).fit()\n",
    "table = sm.stats.anova_lm(model, typ=1)\n",
    "print(table)"
   ]
  },
  {
   "cell_type": "markdown",
   "id": "adopted-functionality",
   "metadata": {},
   "source": [
    "As we can see there is not significant difference between the group, however this might happen for multiple reasons, but as purpose of this post we can say that there is a difference were males seems to have more stroke than females, but we can stand that the difference is significant in order to start taking decision about that, further investigations should be done."
   ]
  },
  {
   "cell_type": "markdown",
   "id": "clean-comfort",
   "metadata": {},
   "source": [
    "\n",
    "### Part II\n",
    "\n",
    "How ever lets see in the smoling variable what we get "
   ]
  },
  {
   "cell_type": "code",
   "execution_count": 12,
   "id": "split-assistant",
   "metadata": {},
   "outputs": [
    {
     "data": {
      "text/plain": [
       "smoking_status\n",
       "Unknown            1544\n",
       "formerly smoked     885\n",
       "never smoked       1892\n",
       "smokes              789\n",
       "Name: stroke, dtype: int64"
      ]
     },
     "execution_count": 12,
     "metadata": {},
     "output_type": "execute_result"
    }
   ],
   "source": [
    "data.groupby('smoking_status')['stroke'].count()"
   ]
  },
  {
   "cell_type": "code",
   "execution_count": 13,
   "id": "emerging-sigma",
   "metadata": {},
   "outputs": [
    {
     "name": "stdout",
     "output_type": "stream",
     "text": [
      "smoking_status\n",
      "Unknown            0.030440\n",
      "formerly smoked    0.079096\n",
      "never smoked       0.047569\n",
      "smokes             0.053232\n",
      "Name: stroke, dtype: float64\n"
     ]
    },
    {
     "data": {
      "image/png": "[encoded data removed]",
      "text/plain": [
       "<Figure size 432x288 with 1 Axes>"
      ]
     },
     "metadata": {
      "needs_background": "light"
     },
     "output_type": "display_data"
    }
   ],
   "source": [
    "print(data.groupby('smoking_status')['stroke'].mean())\n",
    "data.groupby('smoking_status')['stroke'].mean().plot();"
   ]
  },
  {
   "cell_type": "markdown",
   "id": "transparent-penetration",
   "metadata": {},
   "source": [
    "At this point Unknown act as a missing variable and in this case it is difficult to input these values. What we can do is extract them from the analysis and see if with the data remaining we can draw some insights. However for the later part for predicting stroke we would leave it as 4 category "
   ]
  },
  {
   "cell_type": "code",
   "execution_count": 14,
   "id": "external-savannah",
   "metadata": {},
   "outputs": [],
   "source": [
    "data_no_unknown = data[data['smoking_status']!='Unknown']"
   ]
  },
  {
   "cell_type": "code",
   "execution_count": 15,
   "id": "supported-given",
   "metadata": {},
   "outputs": [
    {
     "name": "stdout",
     "output_type": "stream",
     "text": [
      "smoking_status\n",
      "formerly smoked    0.079096\n",
      "never smoked       0.047569\n",
      "smokes             0.053232\n",
      "Name: stroke, dtype: float64\n"
     ]
    },
    {
     "data": {
      "image/png": "[encoded data removed]",
      "text/plain": [
       "<Figure size 432x288 with 1 Axes>"
      ]
     },
     "metadata": {
      "needs_background": "light"
     },
     "output_type": "display_data"
    }
   ],
   "source": [
    "print(data_no_unknown.groupby('smoking_status')['stroke'].mean())\n",
    "data_no_unknown.groupby('smoking_status')['stroke'].mean().plot();"
   ]
  },
  {
   "cell_type": "markdown",
   "id": "renewable-medline",
   "metadata": {},
   "source": [
    "From that we can see that there is a low difference between the groups, never smoked and smokes are very similar but those differ from the formerly smoked. Which might seems odd, but we could hypothesis it's because people who smokes have dilated blood vessels which can help not getting a stroke right away (see  for more information), but the formely smoked when the stop smoking they lost this quality which returns the blood vessels to a more normal state and this reverse effect with sum of another factor as obesity make this people more vulnerable to have a stroke.\n",
    "\n",
    "Is important that even it's a low percentage in health issues this can have a big impact, so for this question we can say that smoking and specially formerly smoked have are more prone to have a stroke."
   ]
  },
  {
   "cell_type": "code",
   "execution_count": 16,
   "id": "aggregate-explosion",
   "metadata": {},
   "outputs": [
    {
     "data": {
      "text/html": [
       "<div>\n",
       "<style scoped>\n",
       "    .dataframe tbody tr th:only-of-type {\n",
       "        vertical-align: middle;\n",
       "    }\n",
       "\n",
       "    .dataframe tbody tr th {\n",
       "        vertical-align: top;\n",
       "    }\n",
       "\n",
       "    .dataframe thead th {\n",
       "        text-align: right;\n",
       "    }\n",
       "</style>\n",
       "<table border=\"1\" class=\"dataframe\">\n",
       "  <thead>\n",
       "    <tr style=\"text-align: right;\">\n",
       "      <th></th>\n",
       "      <th>id</th>\n",
       "      <th>gender</th>\n",
       "      <th>age</th>\n",
       "      <th>hypertension</th>\n",
       "      <th>heart_disease</th>\n",
       "      <th>ever_married</th>\n",
       "      <th>work_type</th>\n",
       "      <th>Residence_type</th>\n",
       "      <th>avg_glucose_level</th>\n",
       "      <th>bmi</th>\n",
       "      <th>stroke</th>\n",
       "    </tr>\n",
       "    <tr>\n",
       "      <th>smoking_status</th>\n",
       "      <th></th>\n",
       "      <th></th>\n",
       "      <th></th>\n",
       "      <th></th>\n",
       "      <th></th>\n",
       "      <th></th>\n",
       "      <th></th>\n",
       "      <th></th>\n",
       "      <th></th>\n",
       "      <th></th>\n",
       "      <th></th>\n",
       "    </tr>\n",
       "  </thead>\n",
       "  <tbody>\n",
       "    <tr>\n",
       "      <th>formerly smoked</th>\n",
       "      <td>815</td>\n",
       "      <td>815</td>\n",
       "      <td>815</td>\n",
       "      <td>815</td>\n",
       "      <td>815</td>\n",
       "      <td>815</td>\n",
       "      <td>815</td>\n",
       "      <td>815</td>\n",
       "      <td>815</td>\n",
       "      <td>815</td>\n",
       "      <td>815</td>\n",
       "    </tr>\n",
       "    <tr>\n",
       "      <th>never smoked</th>\n",
       "      <td>1802</td>\n",
       "      <td>1802</td>\n",
       "      <td>1802</td>\n",
       "      <td>1802</td>\n",
       "      <td>1802</td>\n",
       "      <td>1802</td>\n",
       "      <td>1802</td>\n",
       "      <td>1802</td>\n",
       "      <td>1802</td>\n",
       "      <td>1802</td>\n",
       "      <td>1802</td>\n",
       "    </tr>\n",
       "    <tr>\n",
       "      <th>smokes</th>\n",
       "      <td>747</td>\n",
       "      <td>747</td>\n",
       "      <td>747</td>\n",
       "      <td>747</td>\n",
       "      <td>747</td>\n",
       "      <td>747</td>\n",
       "      <td>747</td>\n",
       "      <td>747</td>\n",
       "      <td>747</td>\n",
       "      <td>747</td>\n",
       "      <td>747</td>\n",
       "    </tr>\n",
       "  </tbody>\n",
       "</table>\n",
       "</div>"
      ],
      "text/plain": [
       "                   id  gender   age  hypertension  heart_disease  \\\n",
       "smoking_status                                                     \n",
       "formerly smoked   815     815   815           815            815   \n",
       "never smoked     1802    1802  1802          1802           1802   \n",
       "smokes            747     747   747           747            747   \n",
       "\n",
       "                 ever_married  work_type  Residence_type  avg_glucose_level  \\\n",
       "smoking_status                                                                \n",
       "formerly smoked           815        815             815                815   \n",
       "never smoked             1802       1802            1802               1802   \n",
       "smokes                    747        747             747                747   \n",
       "\n",
       "                  bmi  stroke  \n",
       "smoking_status                 \n",
       "formerly smoked   815     815  \n",
       "never smoked     1802    1802  \n",
       "smokes            747     747  "
      ]
     },
     "execution_count": 16,
     "metadata": {},
     "output_type": "execute_result"
    }
   ],
   "source": [
    "data_no_unknown[data_no_unknown['stroke'] == 0].groupby('smoking_status').count()"
   ]
  },
  {
   "cell_type": "code",
   "execution_count": 17,
   "id": "representative-shark",
   "metadata": {},
   "outputs": [
    {
     "data": {
      "text/html": [
       "<div>\n",
       "<style scoped>\n",
       "    .dataframe tbody tr th:only-of-type {\n",
       "        vertical-align: middle;\n",
       "    }\n",
       "\n",
       "    .dataframe tbody tr th {\n",
       "        vertical-align: top;\n",
       "    }\n",
       "\n",
       "    .dataframe thead th {\n",
       "        text-align: right;\n",
       "    }\n",
       "</style>\n",
       "<table border=\"1\" class=\"dataframe\">\n",
       "  <thead>\n",
       "    <tr style=\"text-align: right;\">\n",
       "      <th></th>\n",
       "      <th>id</th>\n",
       "      <th>gender</th>\n",
       "      <th>age</th>\n",
       "      <th>hypertension</th>\n",
       "      <th>heart_disease</th>\n",
       "      <th>ever_married</th>\n",
       "      <th>work_type</th>\n",
       "      <th>Residence_type</th>\n",
       "      <th>avg_glucose_level</th>\n",
       "      <th>bmi</th>\n",
       "      <th>stroke</th>\n",
       "    </tr>\n",
       "    <tr>\n",
       "      <th>smoking_status</th>\n",
       "      <th></th>\n",
       "      <th></th>\n",
       "      <th></th>\n",
       "      <th></th>\n",
       "      <th></th>\n",
       "      <th></th>\n",
       "      <th></th>\n",
       "      <th></th>\n",
       "      <th></th>\n",
       "      <th></th>\n",
       "      <th></th>\n",
       "    </tr>\n",
       "  </thead>\n",
       "  <tbody>\n",
       "    <tr>\n",
       "      <th>formerly smoked</th>\n",
       "      <td>70</td>\n",
       "      <td>70</td>\n",
       "      <td>70</td>\n",
       "      <td>70</td>\n",
       "      <td>70</td>\n",
       "      <td>70</td>\n",
       "      <td>70</td>\n",
       "      <td>70</td>\n",
       "      <td>70</td>\n",
       "      <td>70</td>\n",
       "      <td>70</td>\n",
       "    </tr>\n",
       "    <tr>\n",
       "      <th>never smoked</th>\n",
       "      <td>90</td>\n",
       "      <td>90</td>\n",
       "      <td>90</td>\n",
       "      <td>90</td>\n",
       "      <td>90</td>\n",
       "      <td>90</td>\n",
       "      <td>90</td>\n",
       "      <td>90</td>\n",
       "      <td>90</td>\n",
       "      <td>90</td>\n",
       "      <td>90</td>\n",
       "    </tr>\n",
       "    <tr>\n",
       "      <th>smokes</th>\n",
       "      <td>42</td>\n",
       "      <td>42</td>\n",
       "      <td>42</td>\n",
       "      <td>42</td>\n",
       "      <td>42</td>\n",
       "      <td>42</td>\n",
       "      <td>42</td>\n",
       "      <td>42</td>\n",
       "      <td>42</td>\n",
       "      <td>42</td>\n",
       "      <td>42</td>\n",
       "    </tr>\n",
       "  </tbody>\n",
       "</table>\n",
       "</div>"
      ],
      "text/plain": [
       "                 id  gender  age  hypertension  heart_disease  ever_married  \\\n",
       "smoking_status                                                                \n",
       "formerly smoked  70      70   70            70             70            70   \n",
       "never smoked     90      90   90            90             90            90   \n",
       "smokes           42      42   42            42             42            42   \n",
       "\n",
       "                 work_type  Residence_type  avg_glucose_level  bmi  stroke  \n",
       "smoking_status                                                              \n",
       "formerly smoked         70              70                 70   70      70  \n",
       "never smoked            90              90                 90   90      90  \n",
       "smokes                  42              42                 42   42      42  "
      ]
     },
     "execution_count": 17,
     "metadata": {},
     "output_type": "execute_result"
    }
   ],
   "source": [
    "data_no_unknown[data_no_unknown['stroke'] == 1].groupby('smoking_status').count()"
   ]
  },
  {
   "cell_type": "markdown",
   "id": "electrical-financing",
   "metadata": {},
   "source": [
    "## Can we predict a stroke based on this variables?"
   ]
  },
  {
   "cell_type": "code",
   "execution_count": 18,
   "id": "incorrect-accident",
   "metadata": {},
   "outputs": [
    {
     "data": {
      "image/png": "[encoded data removed]",
      "text/plain": [
       "<Figure size 432x288 with 9 Axes>"
      ]
     },
     "metadata": {
      "needs_background": "light"
     },
     "output_type": "display_data"
    }
   ],
   "source": [
    "data.hist();"
   ]
  },
  {
   "cell_type": "code",
   "execution_count": 19,
   "id": "concrete-liberal",
   "metadata": {},
   "outputs": [
    {
     "data": {
      "image/png": "[encoded data removed]",
      "text/plain": [
       "<Figure size 432x288 with 2 Axes>"
      ]
     },
     "metadata": {
      "needs_background": "light"
     },
     "output_type": "display_data"
    }
   ],
   "source": [
    "sns.heatmap(data.corr(), annot=True, fmt=\".2f\");"
   ]
  },
  {
   "cell_type": "markdown",
   "id": "opposed-oregon",
   "metadata": {},
   "source": [
    "The above heatmap of the correlation let us see how the numeric variables behave between them, and we can see that all of them have a low correlation but is positive correlation to the stroke variable. Which allow us to strat thinking that these variables have kinda of an impact on the possibility of having a stroke. "
   ]
  },
  {
   "cell_type": "code",
   "execution_count": 58,
   "id": "swedish-annex",
   "metadata": {},
   "outputs": [],
   "source": [
    "from sklearn import preprocessing\n",
    "from sklearn.model_selection import train_test_split\n",
    "from sklearn.linear_model import LogisticRegression,LogisticRegressionCV\n",
    "from sklearn.metrics import accuracy_score, log_loss, f1_score"
   ]
  },
  {
   "cell_type": "markdown",
   "id": "systematic-bibliography",
   "metadata": {},
   "source": [
    "Because the objective of this is to predict a binary output, we can't use r2 as the only metric to define the model is good or no so we are going to use accuracy_score, log_loss and f1_score as evalaution metrics as well"
   ]
  },
  {
   "cell_type": "code",
   "execution_count": 21,
   "id": "analyzed-basin",
   "metadata": {},
   "outputs": [
    {
     "name": "stdout",
     "output_type": "stream",
     "text": [
      "['age', 'hypertension', 'heart_disease', 'avg_glucose_level', 'bmi']\n"
     ]
    }
   ],
   "source": [
    "features = data.select_dtypes('number').columns.tolist()\n",
    "features.remove('id')\n",
    "features.remove('stroke')\n",
    "print(features)"
   ]
  },
  {
   "cell_type": "code",
   "execution_count": 59,
   "id": "acquired-bunch",
   "metadata": {},
   "outputs": [],
   "source": [
    "def predict_stroke(data,dependant_variable,number_grid, only_numeric =False):\n",
    "    '''\n",
    "    INPUT:\n",
    "    data - pandas dataframe with the data\n",
    "    dependant_variable - string of the variable to predict\n",
    "    number_grid - int, number of random grid search to iterate\n",
    "    \n",
    "    OUTPUT\n",
    "    results - the result of the model\n",
    "    \n",
    "    '''\n",
    "    \n",
    "    \n",
    "    \n",
    "    df = data.copy()\n",
    "    \n",
    "   # creating dummy for categorical variables\n",
    "    for col in df.select_dtypes('object').columns.tolist():\n",
    "        new_col = pd.get_dummies(df[col],prefix=col)\n",
    "        df = pd.concat([df,new_col],axis=1)\n",
    "        df=df.drop(col,axis=1)\n",
    "    \n",
    "    features = df.drop(dependant_variable,axis=1).columns.tolist()\n",
    "\n",
    "    # Splitting the data set\n",
    "    X, X_test, y, y_test = train_test_split(df[features], df[dependant_variable], test_size=0.25, random_state=42)\n",
    "    \n",
    "    print(f'Train size: {X.shape}')\n",
    "    print(f'Test size\" {X_test.shape}')\n",
    "    \n",
    "    logistic_model = LogisticRegressionCV().fit(X, y)\n",
    "    y_pred = logistic_model.predict(X_test)\n",
    "    \n",
    "    \n",
    "    print(\"Model training score: %.4f\" % logistic_model.score(X,y))\n",
    "    print(\"Model score: %.4f\" % logistic_model.score(X_test, y_test))\n",
    "    print(\"Model log loss %.4f\" % log_loss(y_test,y_pred))\n",
    "    print(\"Model f1 score %.4f\" % f1_score(y_test,y_pred))\n",
    "    \n",
    "    \n",
    "    testing = {'y_Actual':y_test.values,'y_Predicted':y_pred}\n",
    "\n",
    "    df_graphic = pd.DataFrame(testing, columns=['y_Actual','y_Predicted'])\n",
    "    confusion_matrix = pd.crosstab(df_graphic['y_Actual'], df_graphic['y_Predicted'], rownames=['Actual'], colnames=['Predicted'])\n",
    "    sns.set(rc={'figure.figsize':(7,5)})\n",
    "\n",
    "    sns.heatmap(confusion_matrix, annot=True,fmt='g')\n",
    "\n",
    "    \n",
    "    \n",
    "    "
   ]
  },
  {
   "cell_type": "code",
   "execution_count": 60,
   "id": "detailed-station",
   "metadata": {},
   "outputs": [
    {
     "name": "stdout",
     "output_type": "stream",
     "text": [
      "Train size: (3832, 22)\n",
      "Test size\" (1278, 22)\n"
     ]
    },
    {
     "name": "stderr",
     "output_type": "stream",
     "text": [
      "/Users/luisfc/Udacity/blog_project/venv/lib/python3.8/site-packages/sklearn/linear_model/_logistic.py:763: ConvergenceWarning: lbfgs failed to converge (status=1):\n",
      "STOP: TOTAL NO. of ITERATIONS REACHED LIMIT.\n",
      "\n",
      "Increase the number of iterations (max_iter) or scale the data as shown in:\n",
      "    https://scikit-learn.org/stable/modules/preprocessing.html\n",
      "Please also refer to the documentation for alternative solver options:\n",
      "    https://scikit-learn.org/stable/modules/linear_model.html#logistic-regression\n",
      "  n_iter_i = _check_optimize_result(\n"
     ]
    },
    {
     "name": "stdout",
     "output_type": "stream",
     "text": [
      "Model training score: 0.9556\n",
      "Model score: 0.9374\n",
      "Model log loss 2.1621\n",
      "Model f1 score 0.0000\n"
     ]
    },
    {
     "data": {
      "image/png": "[encoded data removed]",
      "text/plain": [
       "<Figure size 504x360 with 2 Axes>"
      ]
     },
     "metadata": {},
     "output_type": "display_data"
    }
   ],
   "source": [
    "predict_stroke(data,'stroke',100,True)"
   ]
  },
  {
   "cell_type": "markdown",
   "id": "saving-nicaragua",
   "metadata": {},
   "source": [
    "We can see that it seems that working only with the numeric variables are not getting good outcomes, we are getting a lot of false negatives which in medical problems we try to minimize this a lot, lets try adding the categorical ones."
   ]
  },
  {
   "cell_type": "markdown",
   "id": "numeric-setting",
   "metadata": {},
   "source": [
    "Lets create a random grid search to see  if we can improve this logistic Regression "
   ]
  },
  {
   "cell_type": "code",
   "execution_count": 24,
   "id": "israeli-killer",
   "metadata": {},
   "outputs": [],
   "source": [
    "from sklearn.model_selection import RandomizedSearchCV\n",
    "from sklearn.pipeline import Pipeline\n",
    "from sklearn.compose import ColumnTransformer\n",
    "from sklearn.preprocessing import StandardScaler, OneHotEncoder,RobustScaler,Normalizer"
   ]
  },
  {
   "cell_type": "code",
   "execution_count": 25,
   "id": "uniform-natural",
   "metadata": {},
   "outputs": [],
   "source": [
    "# LogisticRegression =   {\n",
    "#               'model__max_iter' : [x for x in np.linspace(start = 100, stop = 1000, num = 100)],\n",
    "#               'model__tol': [x for x in np.linspace(start = 1e-6, stop = 1e-1, num = 30)],\n",
    "#             'model__solver':['newton-cg', 'lbfgs', 'liblinear', 'sag', 'saga']\n",
    "                                \n",
    "#         }"
   ]
  },
  {
   "cell_type": "code",
   "execution_count": 102,
   "id": "outside-essay",
   "metadata": {},
   "outputs": [],
   "source": [
    "def predict_stroke_RandomGridSearch(data,dependant_variable):\n",
    "    '''\n",
    "    INPUT:\n",
    "    data - pandas dataframe with the data\n",
    "    dependant_variable - string of the variable to predict\n",
    "    number_grid - int, number of random grid search to iterate\n",
    "    \n",
    "    OUTPUT\n",
    "    results - the result of the model\n",
    "    \n",
    "    '''\n",
    "    df = data.copy()\n",
    "    df=df.drop('id',axis=1)\n",
    "    \n",
    "    \n",
    "    \n",
    "    numeric_features = df.select_dtypes('number').columns.to_list()\n",
    "    numeric_features.remove('stroke')\n",
    "    categorical_features = df.select_dtypes('object').columns.to_list()\n",
    "   \n",
    "    # creating dummy for categorical variables\n",
    "    for col in df.select_dtypes('object').columns.tolist():\n",
    "        new_col = pd.get_dummies(df[col],prefix=col)\n",
    "        df = pd.concat([df,new_col],axis=1)\n",
    "        df=df.drop(col,axis=1)\n",
    "\n",
    "    features =  df.select_dtypes(include=['number', 'object']).drop([dependant_variable],axis=1).columns\n",
    "    \n",
    "    X, X_test, y, y_test = train_test_split(df[features], df[dependant_variable], test_size=0.25, random_state=13)\n",
    "    \n",
    "    \n",
    "    \n",
    "    \n",
    "    LogisticRegression_params = {\n",
    "              'model__max_iter' : [x for x in np.linspace(start = 100, stop = 10000, num = 1000)],\n",
    "              'model__tol': [x for x in np.linspace(start = 1e-7, stop = 1e-1, num = 45)],\n",
    "            'model__solver':['newton-cg', 'lbfgs', 'liblinear', 'sag', 'saga']\n",
    "                                \n",
    "        }\n",
    "            \n",
    "\n",
    "    pipe = Pipeline(steps=[('model', LogisticRegression(class_weight=\"balanced\"))])\n",
    "\n",
    "    grid = RandomizedSearchCV(estimator = pipe, \n",
    "                              scoring = 'f1',\n",
    "                                param_distributions = LogisticRegression_params,\n",
    "#                                 param_grid = LogisticRegression_params,\n",
    "                                n_iter= 10000,\n",
    "                                cv = 3, verbose=1,n_jobs=-1)\n",
    "    \n",
    "    grid.fit(X, y)\n",
    "    y_pred  = grid.predict(X_test)\n",
    "    \n",
    "    print(\"model training score: %.4f\" % grid.score(X,y))\n",
    "    print(\"model score: %.4f\" % grid.score(X_test, y_test))\n",
    "    print(\"model log loss %.4f\" % log_loss(y_test,y_pred))\n",
    "    print(\"model f1 score %.4f\" % f1_score(y_test,y_pred))\n",
    "    \n",
    "    testing = {'y_Actual':y_test.values,'y_Predicted':y_pred}\n",
    "\n",
    "    df_graphic = pd.DataFrame(testing, columns=['y_Actual','y_Predicted'])\n",
    "    confusion_matrix = pd.crosstab(df_graphic['y_Actual'], df_graphic['y_Predicted'], rownames=['Actual'], colnames=['Predicted'])\n",
    "    sns.set(rc={'figure.figsize':(7,5)})\n",
    "\n",
    "    sns.heatmap(confusion_matrix, annot=True,fmt='g')"
   ]
  },
  {
   "cell_type": "code",
   "execution_count": 103,
   "id": "chubby-communist",
   "metadata": {},
   "outputs": [
    {
     "name": "stdout",
     "output_type": "stream",
     "text": [
      "Fitting 3 folds for each of 10000 candidates, totalling 30000 fits\n",
      "model training score: 0.2319\n",
      "model score: 0.2389\n",
      "model log loss 8.7835\n",
      "model f1 score 0.2389\n"
     ]
    },
    {
     "data": {
      "image/png": "[encoded data removed]",
      "text/plain": [
       "<Figure size 504x360 with 2 Axes>"
      ]
     },
     "metadata": {},
     "output_type": "display_data"
    }
   ],
   "source": [
    "predict_stroke_RandomGridSearch(data,'stroke')"
   ]
  },
  {
   "cell_type": "code",
   "execution_count": null,
   "id": "swedish-tooth",
   "metadata": {},
   "outputs": [],
   "source": [
    "data['smoking_status'].value_counts()"
   ]
  },
  {
   "cell_type": "code",
   "execution_count": 92,
   "id": "protective-kansas",
   "metadata": {},
   "outputs": [
    {
     "data": {
      "text/plain": [
       "[1e-07,\n",
       " 0.0034483724137931034,\n",
       " 0.006896644827586207,\n",
       " 0.010344917241379311,\n",
       " 0.013793189655172414,\n",
       " 0.017241462068965516,\n",
       " 0.020689734482758623,\n",
       " 0.024138006896551725,\n",
       " 0.027586279310344828,\n",
       " 0.03103455172413793,\n",
       " 0.03448282413793104,\n",
       " 0.03793109655172414,\n",
       " 0.04137936896551725,\n",
       " 0.04482764137931035,\n",
       " 0.048275913793103455,\n",
       " 0.051724186206896554,\n",
       " 0.05517245862068966,\n",
       " 0.058620731034482766,\n",
       " 0.062069003448275865,\n",
       " 0.06551727586206897,\n",
       " 0.06896554827586207,\n",
       " 0.07241382068965518,\n",
       " 0.07586209310344828,\n",
       " 0.07931036551724138,\n",
       " 0.0827586379310345,\n",
       " 0.0862069103448276,\n",
       " 0.0896551827586207,\n",
       " 0.0931034551724138,\n",
       " 0.0965517275862069,\n",
       " 0.1]"
      ]
     },
     "execution_count": 92,
     "metadata": {},
     "output_type": "execute_result"
    }
   ],
   "source": [
    "[x for x in np.linspace(start = 1e-9, stop = 1e-1, num = 30)]"
   ]
  },
  {
   "cell_type": "code",
   "execution_count": null,
   "id": "passing-entity",
   "metadata": {},
   "outputs": [],
   "source": []
  }
 ],
 "metadata": {
  "kernelspec": {
   "display_name": "Python 3",
   "language": "python",
   "name": "python3"
  },
  "language_info": {
   "codemirror_mode": {
    "name": "ipython",
    "version": 3
   },
   "file_extension": ".py",
   "mimetype": "text/x-python",
   "name": "python",
   "nbconvert_exporter": "python",
   "pygments_lexer": "ipython3",
   "version": "3.8.2"
  }
 },
 "nbformat": 4,
 "nbformat_minor": 5
}
